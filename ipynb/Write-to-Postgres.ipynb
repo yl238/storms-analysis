{
 "cells": [
  {
   "cell_type": "markdown",
   "metadata": {},
   "source": [
    "## Write data to PostgreSQL database\n",
    "Using data from 2000-2019. Save all extracted data to PostgreSQL database."
   ]
  },
  {
   "cell_type": "code",
   "execution_count": 1,
   "metadata": {},
   "outputs": [],
   "source": [
    "%matplotlib inline\n",
    "import matplotlib.pyplot as plt\n",
    "import seaborn as sns\n",
    "import numpy as np\n",
    "import pandas as pd\n",
    "import glob\n",
    "\n",
    "from sqlalchemy import create_engine\n",
    "engine = create_engine('postgresql://postgres@localhost:5432/storm')"
   ]
  },
  {
   "cell_type": "markdown",
   "metadata": {},
   "source": [
    "### Get Event Descriptions"
   ]
  },
  {
   "cell_type": "code",
   "execution_count": null,
   "metadata": {},
   "outputs": [],
   "source": [
    "for events in glob.glob('../data/StormEvents_details*'):\n",
    "    print(events)\n",
    "    events_df = pd.read_csv(events, dtype={\"BEGIN_YEARMONTH\":str, \"BEGIN_DAY\":str,\"BEGIN_TIME\":str,\"END_YEARMONTH\":str, \"END_DAY\":str, \"END_TIME\":str, 'FLOOD_CAUSE':str})\n",
    "    events_df.to_sql('events', engine, if_exists='append', index=False)"
   ]
  },
  {
   "cell_type": "markdown",
   "metadata": {},
   "source": [
    "### Get Locations"
   ]
  },
  {
   "cell_type": "code",
   "execution_count": 104,
   "metadata": {},
   "outputs": [],
   "source": [
    "for locations in glob.glob('../data/StormEvents_locations-*'):\n",
    "    print(locations)\n",
    "    locations_df = pd.read_csv(locations, dtype={'YEARMONTH':str})\n",
    "    locations_df.to_sql('locations', engine, if_exists='append', index=False)"
   ]
  }
 ],
 "metadata": {
  "kernelspec": {
   "display_name": "Python 3",
   "language": "python",
   "name": "python3"
  },
  "language_info": {
   "codemirror_mode": {
    "name": "ipython",
    "version": 3
   },
   "file_extension": ".py",
   "mimetype": "text/x-python",
   "name": "python",
   "nbconvert_exporter": "python",
   "pygments_lexer": "ipython3",
   "version": "3.7.3"
  }
 },
 "nbformat": 4,
 "nbformat_minor": 2
}
