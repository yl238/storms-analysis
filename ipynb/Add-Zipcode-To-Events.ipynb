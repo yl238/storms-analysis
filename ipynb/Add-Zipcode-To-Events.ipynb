{
 "cells": [
  {
   "cell_type": "code",
   "execution_count": 114,
   "metadata": {},
   "outputs": [],
   "source": [
    "%matplotlib inline\n",
    "import matplotlib.pyplot as plt\n",
    "import seaborn as sns\n",
    "import numpy as np\n",
    "import pandas as pd\n",
    "import geopandas as gpd\n",
    "from shapely.geometry import shape, Point\n",
    "import glob\n",
    "from fuzzywuzzy import fuzz"
   ]
  },
  {
   "cell_type": "code",
   "execution_count": 115,
   "metadata": {},
   "outputs": [],
   "source": [
    "def create_query_geo_df(query_file):\n",
    "    query_points = pd.read_csv(query_file)\n",
    "    query_points.sort_values(by='STATE', inplace=True)\n",
    "\n",
    "    # Create a Point object and add to dataframe. Convert to Geopandas Dataframe\n",
    "    geometry = [Point(xy) for xy in zip(query_points['LONGITUDE'], query_points['LATITUDE'])]\n",
    "    crs = {'init': 'epsg:4326'}\n",
    "    query_df = gpd.GeoDataFrame(query_points, crs=crs, geometry=geometry)\n",
    "    \n",
    "    return query_df"
   ]
  },
  {
   "cell_type": "code",
   "execution_count": 116,
   "metadata": {},
   "outputs": [],
   "source": [
    "def generate_state_zipcode_files(states):\n",
    "    \"\"\"Match the state to the appropriate zipcode geojson file. Use once only,\n",
    "    but should still be a function.\"\"\"\n",
    "    zip_code_files = glob.glob('../data/State-zip-code-GeoJSON/*.json')\n",
    "    state_zipcode_files = {}\n",
    "    for state in states:\n",
    "        similarity = []\n",
    "        for zip_code_file in zip_code_files:\n",
    "            query_state_name = '_'.join(state.lower().split(' '))\n",
    "            state_name = '_'.join(zip_code_file.split('/')[-1].split('_')[:3]).lower()\n",
    "            token_sort_ratio = fuzz.token_set_ratio(query_state_name, state_name)\n",
    "            similarity.append(token_sort_ratio)\n",
    "        closest_match = zip_code_files[similarity.index(max(similarity))]\n",
    "        state_zipcode_files[state] = closest_match\n",
    "    return state_zipcode_files"
   ]
  },
  {
   "cell_type": "code",
   "execution_count": 154,
   "metadata": {},
   "outputs": [],
   "source": [
    "def append_zipcode(query_df, zip_geo_file, state):\n",
    "    \"\"\"Add zipcode to the query points for given state.\n",
    "    Read in the correct corresponding zipcode polygon files. \n",
    "    For each point loop through all the zipcode polygons in the state and check\n",
    "    whether it belongs to one. Save the zipcode if found.\n",
    "    \"\"\"\n",
    "    points = query_df[query_df.STATE == state]['geometry']\n",
    "    \n",
    "    results = []\n",
    "    zip_geo_df = gpd.read_file(zip_geo_file)\n",
    "    zip_codes = []\n",
    "  \n",
    "    for point in points:\n",
    "        correct_zip = np.nan\n",
    "        for i, poly in zip_geo_df[['GEOID10', 'geometry']].iterrows():\n",
    "            try:\n",
    "                contains = poly['geometry'].contains(point)\n",
    "                if contains == True: \n",
    "                    correct_zip = poly['GEOID10']\n",
    "                    break\n",
    "            except Exception:\n",
    "                print('Invalid polygon')\n",
    "                pass\n",
    "        zip_codes.append(correct_zip)\n",
    "    query_df['ZIPCODE'] = zip_codes\n",
    "    return query_df"
   ]
  },
  {
   "cell_type": "code",
   "execution_count": 118,
   "metadata": {},
   "outputs": [],
   "source": [
    "state_zip_files = generate_state_zipcode_files(states)"
   ]
  },
  {
   "cell_type": "code",
   "execution_count": 132,
   "metadata": {},
   "outputs": [],
   "source": [
    "zip_geo_file = '../data/ks_kansas_zip_codes_geo.min.json'"
   ]
  },
  {
   "cell_type": "code",
   "execution_count": 147,
   "metadata": {},
   "outputs": [],
   "source": [
    "query_file = '../data/storm_coordinates.csv'\n",
    "query_df = create_query_geo_df(query_file)\n",
    "query_df_kansas = query_df[query_df.STATE == 'KANSAS']"
   ]
  },
  {
   "cell_type": "code",
   "execution_count": 156,
   "metadata": {},
   "outputs": [],
   "source": [
    "query_with_zipcode = append_zipcode(query_df_kansas, zip_geo_file, 'KANSAS')\n",
    "final = query_with_zipcode.drop(columns=['geometry'])\n",
    "final.to_csv('../output/KANSAS_events.csv', index=False)"
   ]
  },
  {
   "cell_type": "code",
   "execution_count": null,
   "metadata": {},
   "outputs": [],
   "source": [
    "f, ax = plt.subplots(figsize=(7, 10))\n",
    "alabama_df[alabama_df.GEOID10 == correct].plot(ax=ax)\n",
    "ax.plot(lon, lat, color='r', marker='o')\n",
    "ax.set_title('Alabama zip {}'.format(correct))"
   ]
  }
 ],
 "metadata": {
  "kernelspec": {
   "display_name": "Python 3",
   "language": "python",
   "name": "python3"
  },
  "language_info": {
   "codemirror_mode": {
    "name": "ipython",
    "version": 3
   },
   "file_extension": ".py",
   "mimetype": "text/x-python",
   "name": "python",
   "nbconvert_exporter": "python",
   "pygments_lexer": "ipython3",
   "version": "3.7.1"
  }
 },
 "nbformat": 4,
 "nbformat_minor": 2
}
